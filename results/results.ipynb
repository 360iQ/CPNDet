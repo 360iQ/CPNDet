{
 "cells": [
  {
   "cell_type": "code",
   "execution_count": 25,
   "id": "cordless-drill",
   "metadata": {},
   "outputs": [],
   "source": [
    "import os\n",
    "import pandas as pd"
   ]
  },
  {
   "cell_type": "code",
   "execution_count": 26,
   "id": "mobile-screw",
   "metadata": {},
   "outputs": [],
   "source": [
    "df = pd.DataFrame([])\n",
    "for path, directories, files in os.walk(os.getcwd()):\n",
    "     for file in files:\n",
    "        if file.endswith(\"csv\"):\n",
    "            tmp_df = pd.read_csv(os.path.join(path, file), index_col=[0])\n",
    "            df = pd.concat([df, tmp_df])\n",
    "df = df.drop_duplicates()"
   ]
  },
  {
   "cell_type": "code",
   "execution_count": 27,
   "id": "conditional-consumption",
   "metadata": {},
   "outputs": [
    {
     "data": {
      "text/plain": [
       "0    0.957943\n",
       "0    0.954629\n",
       "0    0.931139\n",
       "0    0.924306\n",
       "0    0.954603\n",
       "0    0.950448\n",
       "0    0.940146\n",
       "0    0.925500\n",
       "0    0.940527\n",
       "0    0.926209\n",
       "0    0.958239\n",
       "0    0.955743\n",
       "Name: AP @[IoU=0.5|area=all|maxDets=100], dtype: float64"
      ]
     },
     "execution_count": 27,
     "metadata": {},
     "output_type": "execute_result"
    }
   ],
   "source": [
    "df['AP @[IoU=0.5|area=all|maxDets=100]']"
   ]
  },
  {
   "cell_type": "code",
   "execution_count": 51,
   "id": "usual-federation",
   "metadata": {},
   "outputs": [],
   "source": [
    "#pip install atlassian-python-api\n",
    "#pip install tabulate"
   ]
  },
  {
   "cell_type": "code",
   "execution_count": 53,
   "id": "original-chicago",
   "metadata": {},
   "outputs": [],
   "source": [
    "from atlassian import Confluence"
   ]
  },
  {
   "cell_type": "code",
   "execution_count": 58,
   "id": "deadly-handbook",
   "metadata": {},
   "outputs": [
    {
     "data": {
      "text/plain": [
       "\u001b[1;31mSignature:\u001b[0m\n",
       "\u001b[0mConfluence\u001b[0m\u001b[1;33m.\u001b[0m\u001b[0mcreate_page\u001b[0m\u001b[1;33m(\u001b[0m\u001b[1;33m\n",
       "\u001b[0m    \u001b[0mself\u001b[0m\u001b[1;33m,\u001b[0m\u001b[1;33m\n",
       "\u001b[0m    \u001b[0mspace\u001b[0m\u001b[1;33m,\u001b[0m\u001b[1;33m\n",
       "\u001b[0m    \u001b[0mtitle\u001b[0m\u001b[1;33m,\u001b[0m\u001b[1;33m\n",
       "\u001b[0m    \u001b[0mbody\u001b[0m\u001b[1;33m,\u001b[0m\u001b[1;33m\n",
       "\u001b[0m    \u001b[0mparent_id\u001b[0m\u001b[1;33m=\u001b[0m\u001b[1;32mNone\u001b[0m\u001b[1;33m,\u001b[0m\u001b[1;33m\n",
       "\u001b[0m    \u001b[0mtype\u001b[0m\u001b[1;33m=\u001b[0m\u001b[1;34m'page'\u001b[0m\u001b[1;33m,\u001b[0m\u001b[1;33m\n",
       "\u001b[0m    \u001b[0mrepresentation\u001b[0m\u001b[1;33m=\u001b[0m\u001b[1;34m'storage'\u001b[0m\u001b[1;33m,\u001b[0m\u001b[1;33m\n",
       "\u001b[0m    \u001b[0meditor\u001b[0m\u001b[1;33m=\u001b[0m\u001b[1;32mNone\u001b[0m\u001b[1;33m,\u001b[0m\u001b[1;33m\n",
       "\u001b[0m\u001b[1;33m)\u001b[0m\u001b[1;33m\u001b[0m\u001b[0m\n",
       "\u001b[1;31mDocstring:\u001b[0m\n",
       "Create page from scratch\n",
       ":param space:\n",
       ":param title:\n",
       ":param body:\n",
       ":param parent_id:\n",
       ":param type:\n",
       ":param representation: OPTIONAL: either Confluence 'storage' or 'wiki' markup format\n",
       ":param editor: OPTIONAL: v2 to be created in the new editor\n",
       ":return:\n",
       "\u001b[1;31mFile:\u001b[0m      c:\\users\\mostyk\\appdata\\local\\programs\\python\\python36\\lib\\site-packages\\atlassian\\confluence.py\n",
       "\u001b[1;31mType:\u001b[0m      function\n"
      ]
     },
     "metadata": {},
     "output_type": "display_data"
    }
   ],
   "source": [
    "Confluence.create_page?"
   ]
  },
  {
   "cell_type": "code",
   "execution_count": 64,
   "id": "moderate-monroe",
   "metadata": {},
   "outputs": [
    {
     "ename": "TypeError",
     "evalue": "create_page() missing 1 required positional argument: 'self'",
     "output_type": "error",
     "traceback": [
      "\u001b[1;31m---------------------------------------------------------------------------\u001b[0m",
      "\u001b[1;31mTypeError\u001b[0m                                 Traceback (most recent call last)",
      "\u001b[1;32m<ipython-input-64-9c49eabccac4>\u001b[0m in \u001b[0;36m<module>\u001b[1;34m\u001b[0m\n\u001b[1;32m----> 1\u001b[1;33m \u001b[0mConfluence\u001b[0m\u001b[1;33m.\u001b[0m\u001b[0mcreate_page\u001b[0m\u001b[1;33m(\u001b[0m\u001b[0mspace\u001b[0m\u001b[1;33m=\u001b[0m\u001b[1;34m\"/\"\u001b[0m\u001b[1;33m,\u001b[0m \u001b[0mtitle\u001b[0m\u001b[1;33m=\u001b[0m\u001b[1;34m\"test\"\u001b[0m\u001b[1;33m,\u001b[0m \u001b[0mbody\u001b[0m\u001b[1;33m=\u001b[0m\u001b[0mdf\u001b[0m\u001b[1;33m.\u001b[0m\u001b[0mto_markdown\u001b[0m\u001b[1;33m(\u001b[0m\u001b[1;33m)\u001b[0m\u001b[1;33m,\u001b[0m \u001b[0mparent_id\u001b[0m\u001b[1;33m=\u001b[0m\u001b[1;32mNone\u001b[0m\u001b[1;33m,\u001b[0m \u001b[0mtype\u001b[0m\u001b[1;33m=\u001b[0m\u001b[1;34m'page'\u001b[0m\u001b[1;33m,\u001b[0m \u001b[0mrepresentation\u001b[0m\u001b[1;33m=\u001b[0m\u001b[1;34m'storage'\u001b[0m\u001b[1;33m,\u001b[0m \u001b[0meditor\u001b[0m\u001b[1;33m=\u001b[0m\u001b[1;34m'v2'\u001b[0m\u001b[1;33m)\u001b[0m\u001b[1;33m\u001b[0m\u001b[0m\n\u001b[0m",
      "\u001b[1;31mTypeError\u001b[0m: create_page() missing 1 required positional argument: 'self'"
     ]
    }
   ],
   "source": [
    "Confluence.create_page(space=\"/\", title=\"test\", body=df.to_markdown(), parent_id=None, type='page', representation='storage', editor='v2')"
   ]
  },
  {
   "cell_type": "code",
   "execution_count": null,
   "id": "further-theory",
   "metadata": {},
   "outputs": [],
   "source": []
  },
  {
   "cell_type": "code",
   "execution_count": 71,
   "id": "specified-antigua",
   "metadata": {},
   "outputs": [
    {
     "data": {
      "text/plain": [
       "(12, 14)"
      ]
     },
     "execution_count": 71,
     "metadata": {},
     "output_type": "execute_result"
    }
   ],
   "source": [
    "df.shape"
   ]
  },
  {
   "cell_type": "code",
   "execution_count": 67,
   "id": "buried-stomach",
   "metadata": {},
   "outputs": [],
   "source": [
    "#df.to_markdown?"
   ]
  },
  {
   "cell_type": "code",
   "execution_count": 72,
   "id": "unsigned-supervisor",
   "metadata": {},
   "outputs": [
    {
     "name": "stdout",
     "output_type": "stream",
     "text": [
      "|    |   AP @[IoU=0.50:0.95|area=all|maxDets=10] |   AP @[IoU=0.5|area=all|maxDets=100] |   AP @[IoU=0.75|area=all|maxDets=100] |   AR @[IoU=0.50:0.95|area=all|maxDets=10] |   AR @[IoU=0.50:0.95|area=all|maxDets=100] | Dataset   | Model   | Backbone   | Interpolation   |   Snapshot |   FPS | Split   | DeviceType   | DeviceName              |\n",
      "|---:|------------------------------------------:|-------------------------------------:|--------------------------------------:|------------------------------------------:|-------------------------------------------:|:----------|:--------|:-----------|:----------------|-----------:|------:|:--------|:-------------|:------------------------|\n",
      "|  0 |                                  0.722126 |                             0.957943 |                              0.852289 |                                  0.709481 |                                   0.797606 | 2class    | CPNDET  | DLA34      | None            |      20000 | 16.82 | minival | GPU          | NVIDIA GeForce RTX 3090 |\n",
      "|  0 |                                  0.718589 |                             0.954629 |                              0.849912 |                                  0.717739 |                                   0.796382 | 2class    | CPNDET  | DLA34      | None            |      20000 | 16.55 | testdev | GPU          | NVIDIA GeForce RTX 3090 |\n",
      "|  0 |                                  0.65067  |                             0.931139 |                              0.751303 |                                  0.705562 |                                   0.734407 | 11class   | CPNDET  | HG104      | bilinear        |      30000 |  5.69 | minival | GPU          | NVIDIA GeForce RTX 3090 |\n",
      "|  0 |                                  0.647549 |                             0.924306 |                              0.749394 |                                  0.704189 |                                   0.73418  | 11class   | CPNDET  | HG104      | bilinear        |      30000 |  5.83 | testdev | GPU          | NVIDIA GeForce RTX 3090 |\n",
      "|  0 |                                  0.723965 |                             0.954603 |                              0.860721 |                                  0.711722 |                                   0.803446 | 2class    | CPNDET  | HG104      | bilinear        |      20000 |  5.24 | minival | GPU          | NVIDIA GeForce RTX 3090 |\n",
      "|  0 |                                  0.719614 |                             0.950448 |                              0.852694 |                                  0.716728 |                                   0.797573 | 2class    | CPNDET  | HG104      | bilinear        |      20000 |  5.23 | testdev | GPU          | NVIDIA GeForce RTX 3090 |\n",
      "|  0 |                                  0.679398 |                             0.940146 |                              0.796639 |                                  0.72645  |                                   0.753757 | 11class   | CPNDET  | HG52       | bilinear        |      30000 |  7.94 | minival | GPU          | NVIDIA GeForce RTX 3090 |\n",
      "|  0 |                                  0.667433 |                             0.9255   |                              0.782026 |                                  0.717586 |                                   0.746261 | 11class   | CPNDET  | HG52       | bilinear        |      30000 |  8.28 | testdev | GPU          | NVIDIA GeForce RTX 3090 |\n",
      "|  0 |                                  0.678683 |                             0.940527 |                              0.785296 |                                  0.726319 |                                   0.753947 | 11class   | CPNDET  | HG52       | bicubic         |      30000 |  7.76 | minival | GPU          | NVIDIA GeForce RTX 3090 |\n",
      "|  0 |                                  0.669346 |                             0.926209 |                              0.781613 |                                  0.720619 |                                   0.749593 | 11class   | CPNDET  | HG52       | bicubic         |      30000 |  8.11 | testdev | GPU          | NVIDIA GeForce RTX 3090 |\n",
      "|  0 |                                  0.719702 |                             0.958239 |                              0.854405 |                                  0.711551 |                                   0.804328 | 2class    | CPNDET  | HG52       | bilinear        |      20000 |  7.32 | minival | GPU          | NVIDIA GeForce RTX 3090 |\n",
      "|  0 |                                  0.721779 |                             0.955743 |                              0.853075 |                                  0.718338 |                                   0.802815 | 2class    | CPNDET  | HG52       | bilinear        |      20000 |  7.39 | testdev | GPU          | NVIDIA GeForce RTX 3090 |\n"
     ]
    }
   ],
   "source": [
    "print(df.to_markdown())"
   ]
  },
  {
   "cell_type": "code",
   "execution_count": 42,
   "id": "similar-storm",
   "metadata": {},
   "outputs": [
    {
     "name": "stdout",
     "output_type": "stream",
     "text": [
      "Collecting tabulate\n",
      "  Downloading tabulate-0.8.9-py3-none-any.whl (25 kB)\n",
      "Installing collected packages: tabulate\n",
      "Successfully installed tabulate-0.8.9\n",
      "Note: you may need to restart the kernel to use updated packages.\n"
     ]
    },
    {
     "name": "stderr",
     "output_type": "stream",
     "text": [
      "WARNING: You are using pip version 21.0.1; however, version 21.1.1 is available.\n",
      "You should consider upgrading via the 'c:\\users\\mostyk\\appdata\\local\\programs\\python\\python36\\python.exe -m pip install --upgrade pip' command.\n"
     ]
    }
   ],
   "source": []
  },
  {
   "cell_type": "code",
   "execution_count": 73,
   "id": "fabulous-formation",
   "metadata": {},
   "outputs": [],
   "source": [
    "df.T.to_excel(\"results.xlsx\")"
   ]
  },
  {
   "cell_type": "code",
   "execution_count": 80,
   "id": "attached-median",
   "metadata": {},
   "outputs": [],
   "source": [
    "df.round(3).to_csv(\"results.csv\")"
   ]
  },
  {
   "cell_type": "code",
   "execution_count": 79,
   "id": "active-scale",
   "metadata": {},
   "outputs": [
    {
     "data": {
      "text/html": [
       "<div>\n",
       "<style scoped>\n",
       "    .dataframe tbody tr th:only-of-type {\n",
       "        vertical-align: middle;\n",
       "    }\n",
       "\n",
       "    .dataframe tbody tr th {\n",
       "        vertical-align: top;\n",
       "    }\n",
       "\n",
       "    .dataframe thead th {\n",
       "        text-align: right;\n",
       "    }\n",
       "</style>\n",
       "<table border=\"1\" class=\"dataframe\">\n",
       "  <thead>\n",
       "    <tr style=\"text-align: right;\">\n",
       "      <th></th>\n",
       "      <th>AP @[IoU=0.50:0.95|area=all|maxDets=10]</th>\n",
       "      <th>AP @[IoU=0.5|area=all|maxDets=100]</th>\n",
       "      <th>AP @[IoU=0.75|area=all|maxDets=100]</th>\n",
       "      <th>AR @[IoU=0.50:0.95|area=all|maxDets=10]</th>\n",
       "      <th>AR @[IoU=0.50:0.95|area=all|maxDets=100]</th>\n",
       "      <th>Dataset</th>\n",
       "      <th>Model</th>\n",
       "      <th>Backbone</th>\n",
       "      <th>Interpolation</th>\n",
       "      <th>Snapshot</th>\n",
       "      <th>FPS</th>\n",
       "      <th>Split</th>\n",
       "      <th>DeviceType</th>\n",
       "      <th>DeviceName</th>\n",
       "    </tr>\n",
       "  </thead>\n",
       "  <tbody>\n",
       "    <tr>\n",
       "      <th>0</th>\n",
       "      <td>0.722</td>\n",
       "      <td>0.958</td>\n",
       "      <td>0.852</td>\n",
       "      <td>0.709</td>\n",
       "      <td>0.798</td>\n",
       "      <td>2class</td>\n",
       "      <td>CPNDET</td>\n",
       "      <td>DLA34</td>\n",
       "      <td>None</td>\n",
       "      <td>20000</td>\n",
       "      <td>16.82</td>\n",
       "      <td>minival</td>\n",
       "      <td>GPU</td>\n",
       "      <td>NVIDIA GeForce RTX 3090</td>\n",
       "    </tr>\n",
       "    <tr>\n",
       "      <th>0</th>\n",
       "      <td>0.719</td>\n",
       "      <td>0.955</td>\n",
       "      <td>0.850</td>\n",
       "      <td>0.718</td>\n",
       "      <td>0.796</td>\n",
       "      <td>2class</td>\n",
       "      <td>CPNDET</td>\n",
       "      <td>DLA34</td>\n",
       "      <td>None</td>\n",
       "      <td>20000</td>\n",
       "      <td>16.55</td>\n",
       "      <td>testdev</td>\n",
       "      <td>GPU</td>\n",
       "      <td>NVIDIA GeForce RTX 3090</td>\n",
       "    </tr>\n",
       "    <tr>\n",
       "      <th>0</th>\n",
       "      <td>0.651</td>\n",
       "      <td>0.931</td>\n",
       "      <td>0.751</td>\n",
       "      <td>0.706</td>\n",
       "      <td>0.734</td>\n",
       "      <td>11class</td>\n",
       "      <td>CPNDET</td>\n",
       "      <td>HG104</td>\n",
       "      <td>bilinear</td>\n",
       "      <td>30000</td>\n",
       "      <td>5.69</td>\n",
       "      <td>minival</td>\n",
       "      <td>GPU</td>\n",
       "      <td>NVIDIA GeForce RTX 3090</td>\n",
       "    </tr>\n",
       "    <tr>\n",
       "      <th>0</th>\n",
       "      <td>0.648</td>\n",
       "      <td>0.924</td>\n",
       "      <td>0.749</td>\n",
       "      <td>0.704</td>\n",
       "      <td>0.734</td>\n",
       "      <td>11class</td>\n",
       "      <td>CPNDET</td>\n",
       "      <td>HG104</td>\n",
       "      <td>bilinear</td>\n",
       "      <td>30000</td>\n",
       "      <td>5.83</td>\n",
       "      <td>testdev</td>\n",
       "      <td>GPU</td>\n",
       "      <td>NVIDIA GeForce RTX 3090</td>\n",
       "    </tr>\n",
       "    <tr>\n",
       "      <th>0</th>\n",
       "      <td>0.724</td>\n",
       "      <td>0.955</td>\n",
       "      <td>0.861</td>\n",
       "      <td>0.712</td>\n",
       "      <td>0.803</td>\n",
       "      <td>2class</td>\n",
       "      <td>CPNDET</td>\n",
       "      <td>HG104</td>\n",
       "      <td>bilinear</td>\n",
       "      <td>20000</td>\n",
       "      <td>5.24</td>\n",
       "      <td>minival</td>\n",
       "      <td>GPU</td>\n",
       "      <td>NVIDIA GeForce RTX 3090</td>\n",
       "    </tr>\n",
       "    <tr>\n",
       "      <th>0</th>\n",
       "      <td>0.720</td>\n",
       "      <td>0.950</td>\n",
       "      <td>0.853</td>\n",
       "      <td>0.717</td>\n",
       "      <td>0.798</td>\n",
       "      <td>2class</td>\n",
       "      <td>CPNDET</td>\n",
       "      <td>HG104</td>\n",
       "      <td>bilinear</td>\n",
       "      <td>20000</td>\n",
       "      <td>5.23</td>\n",
       "      <td>testdev</td>\n",
       "      <td>GPU</td>\n",
       "      <td>NVIDIA GeForce RTX 3090</td>\n",
       "    </tr>\n",
       "    <tr>\n",
       "      <th>0</th>\n",
       "      <td>0.679</td>\n",
       "      <td>0.940</td>\n",
       "      <td>0.797</td>\n",
       "      <td>0.726</td>\n",
       "      <td>0.754</td>\n",
       "      <td>11class</td>\n",
       "      <td>CPNDET</td>\n",
       "      <td>HG52</td>\n",
       "      <td>bilinear</td>\n",
       "      <td>30000</td>\n",
       "      <td>7.94</td>\n",
       "      <td>minival</td>\n",
       "      <td>GPU</td>\n",
       "      <td>NVIDIA GeForce RTX 3090</td>\n",
       "    </tr>\n",
       "    <tr>\n",
       "      <th>0</th>\n",
       "      <td>0.667</td>\n",
       "      <td>0.926</td>\n",
       "      <td>0.782</td>\n",
       "      <td>0.718</td>\n",
       "      <td>0.746</td>\n",
       "      <td>11class</td>\n",
       "      <td>CPNDET</td>\n",
       "      <td>HG52</td>\n",
       "      <td>bilinear</td>\n",
       "      <td>30000</td>\n",
       "      <td>8.28</td>\n",
       "      <td>testdev</td>\n",
       "      <td>GPU</td>\n",
       "      <td>NVIDIA GeForce RTX 3090</td>\n",
       "    </tr>\n",
       "    <tr>\n",
       "      <th>0</th>\n",
       "      <td>0.679</td>\n",
       "      <td>0.941</td>\n",
       "      <td>0.785</td>\n",
       "      <td>0.726</td>\n",
       "      <td>0.754</td>\n",
       "      <td>11class</td>\n",
       "      <td>CPNDET</td>\n",
       "      <td>HG52</td>\n",
       "      <td>bicubic</td>\n",
       "      <td>30000</td>\n",
       "      <td>7.76</td>\n",
       "      <td>minival</td>\n",
       "      <td>GPU</td>\n",
       "      <td>NVIDIA GeForce RTX 3090</td>\n",
       "    </tr>\n",
       "    <tr>\n",
       "      <th>0</th>\n",
       "      <td>0.669</td>\n",
       "      <td>0.926</td>\n",
       "      <td>0.782</td>\n",
       "      <td>0.721</td>\n",
       "      <td>0.750</td>\n",
       "      <td>11class</td>\n",
       "      <td>CPNDET</td>\n",
       "      <td>HG52</td>\n",
       "      <td>bicubic</td>\n",
       "      <td>30000</td>\n",
       "      <td>8.11</td>\n",
       "      <td>testdev</td>\n",
       "      <td>GPU</td>\n",
       "      <td>NVIDIA GeForce RTX 3090</td>\n",
       "    </tr>\n",
       "    <tr>\n",
       "      <th>0</th>\n",
       "      <td>0.720</td>\n",
       "      <td>0.958</td>\n",
       "      <td>0.854</td>\n",
       "      <td>0.712</td>\n",
       "      <td>0.804</td>\n",
       "      <td>2class</td>\n",
       "      <td>CPNDET</td>\n",
       "      <td>HG52</td>\n",
       "      <td>bilinear</td>\n",
       "      <td>20000</td>\n",
       "      <td>7.32</td>\n",
       "      <td>minival</td>\n",
       "      <td>GPU</td>\n",
       "      <td>NVIDIA GeForce RTX 3090</td>\n",
       "    </tr>\n",
       "    <tr>\n",
       "      <th>0</th>\n",
       "      <td>0.722</td>\n",
       "      <td>0.956</td>\n",
       "      <td>0.853</td>\n",
       "      <td>0.718</td>\n",
       "      <td>0.803</td>\n",
       "      <td>2class</td>\n",
       "      <td>CPNDET</td>\n",
       "      <td>HG52</td>\n",
       "      <td>bilinear</td>\n",
       "      <td>20000</td>\n",
       "      <td>7.39</td>\n",
       "      <td>testdev</td>\n",
       "      <td>GPU</td>\n",
       "      <td>NVIDIA GeForce RTX 3090</td>\n",
       "    </tr>\n",
       "  </tbody>\n",
       "</table>\n",
       "</div>"
      ],
      "text/plain": [
       "   AP @[IoU=0.50:0.95|area=all|maxDets=10]  \\\n",
       "0                                    0.722   \n",
       "0                                    0.719   \n",
       "0                                    0.651   \n",
       "0                                    0.648   \n",
       "0                                    0.724   \n",
       "0                                    0.720   \n",
       "0                                    0.679   \n",
       "0                                    0.667   \n",
       "0                                    0.679   \n",
       "0                                    0.669   \n",
       "0                                    0.720   \n",
       "0                                    0.722   \n",
       "\n",
       "   AP @[IoU=0.5|area=all|maxDets=100]  AP @[IoU=0.75|area=all|maxDets=100]  \\\n",
       "0                               0.958                                0.852   \n",
       "0                               0.955                                0.850   \n",
       "0                               0.931                                0.751   \n",
       "0                               0.924                                0.749   \n",
       "0                               0.955                                0.861   \n",
       "0                               0.950                                0.853   \n",
       "0                               0.940                                0.797   \n",
       "0                               0.926                                0.782   \n",
       "0                               0.941                                0.785   \n",
       "0                               0.926                                0.782   \n",
       "0                               0.958                                0.854   \n",
       "0                               0.956                                0.853   \n",
       "\n",
       "   AR @[IoU=0.50:0.95|area=all|maxDets=10]  \\\n",
       "0                                    0.709   \n",
       "0                                    0.718   \n",
       "0                                    0.706   \n",
       "0                                    0.704   \n",
       "0                                    0.712   \n",
       "0                                    0.717   \n",
       "0                                    0.726   \n",
       "0                                    0.718   \n",
       "0                                    0.726   \n",
       "0                                    0.721   \n",
       "0                                    0.712   \n",
       "0                                    0.718   \n",
       "\n",
       "   AR @[IoU=0.50:0.95|area=all|maxDets=100]  Dataset   Model Backbone  \\\n",
       "0                                     0.798   2class  CPNDET    DLA34   \n",
       "0                                     0.796   2class  CPNDET    DLA34   \n",
       "0                                     0.734  11class  CPNDET    HG104   \n",
       "0                                     0.734  11class  CPNDET    HG104   \n",
       "0                                     0.803   2class  CPNDET    HG104   \n",
       "0                                     0.798   2class  CPNDET    HG104   \n",
       "0                                     0.754  11class  CPNDET     HG52   \n",
       "0                                     0.746  11class  CPNDET     HG52   \n",
       "0                                     0.754  11class  CPNDET     HG52   \n",
       "0                                     0.750  11class  CPNDET     HG52   \n",
       "0                                     0.804   2class  CPNDET     HG52   \n",
       "0                                     0.803   2class  CPNDET     HG52   \n",
       "\n",
       "  Interpolation  Snapshot    FPS    Split DeviceType               DeviceName  \n",
       "0          None     20000  16.82  minival        GPU  NVIDIA GeForce RTX 3090  \n",
       "0          None     20000  16.55  testdev        GPU  NVIDIA GeForce RTX 3090  \n",
       "0      bilinear     30000   5.69  minival        GPU  NVIDIA GeForce RTX 3090  \n",
       "0      bilinear     30000   5.83  testdev        GPU  NVIDIA GeForce RTX 3090  \n",
       "0      bilinear     20000   5.24  minival        GPU  NVIDIA GeForce RTX 3090  \n",
       "0      bilinear     20000   5.23  testdev        GPU  NVIDIA GeForce RTX 3090  \n",
       "0      bilinear     30000   7.94  minival        GPU  NVIDIA GeForce RTX 3090  \n",
       "0      bilinear     30000   8.28  testdev        GPU  NVIDIA GeForce RTX 3090  \n",
       "0       bicubic     30000   7.76  minival        GPU  NVIDIA GeForce RTX 3090  \n",
       "0       bicubic     30000   8.11  testdev        GPU  NVIDIA GeForce RTX 3090  \n",
       "0      bilinear     20000   7.32  minival        GPU  NVIDIA GeForce RTX 3090  \n",
       "0      bilinear     20000   7.39  testdev        GPU  NVIDIA GeForce RTX 3090  "
      ]
     },
     "execution_count": 79,
     "metadata": {},
     "output_type": "execute_result"
    }
   ],
   "source": []
  },
  {
   "cell_type": "code",
   "execution_count": null,
   "id": "freelance-franchise",
   "metadata": {},
   "outputs": [],
   "source": []
  }
 ],
 "metadata": {
  "kernelspec": {
   "display_name": "Python 3",
   "language": "python",
   "name": "python3"
  },
  "language_info": {
   "codemirror_mode": {
    "name": "ipython",
    "version": 3
   },
   "file_extension": ".py",
   "mimetype": "text/x-python",
   "name": "python",
   "nbconvert_exporter": "python",
   "pygments_lexer": "ipython3",
   "version": "3.6.6"
  }
 },
 "nbformat": 4,
 "nbformat_minor": 5
}
