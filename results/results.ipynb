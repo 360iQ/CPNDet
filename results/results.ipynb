{
 "cells": [
  {
   "cell_type": "code",
   "execution_count": 1,
   "id": "curious-insulin",
   "metadata": {},
   "outputs": [],
   "source": [
    "import os\n",
    "import pandas as pd"
   ]
  },
  {
   "cell_type": "code",
   "execution_count": 2,
   "id": "human-polls",
   "metadata": {},
   "outputs": [],
   "source": [
    "df = pd.DataFrame([])\n",
    "for path, directories, files in os.walk(os.getcwd()):\n",
    "     for file in files:\n",
    "        if file.endswith(\"csv\"):\n",
    "            tmp_df = pd.read_csv(os.path.join(path, file), index_col=[0])\n",
    "            df = pd.concat([df, tmp_df])\n",
    "df = df.drop_duplicates()"
   ]
  },
  {
   "cell_type": "code",
   "execution_count": 3,
   "id": "continent-highland",
   "metadata": {},
   "outputs": [
    {
     "data": {
      "text/plain": [
       "0    0.957943\n",
       "0    0.954629\n",
       "0    0.486404\n",
       "0    0.932886\n",
       "0    0.918223\n",
       "0    0.918223\n",
       "0    0.931139\n",
       "0    0.924306\n",
       "0    0.954603\n",
       "0    0.950448\n",
       "0    0.940146\n",
       "0    0.925500\n",
       "0    0.940527\n",
       "0    0.926209\n",
       "0    0.958239\n",
       "0    0.955743\n",
       "Name: AP @[IoU=0.5|area=all|maxDets=100], dtype: float64"
      ]
     },
     "execution_count": 3,
     "metadata": {},
     "output_type": "execute_result"
    }
   ],
   "source": [
    "df['AP @[IoU=0.5|area=all|maxDets=100]']"
   ]
  },
  {
   "cell_type": "code",
   "execution_count": 4,
   "id": "brave-violation",
   "metadata": {},
   "outputs": [],
   "source": [
    "#pip install atlassian-python-api\n",
    "#pip install tabulate"
   ]
  },
  {
   "cell_type": "code",
   "execution_count": 53,
   "id": "japanese-mauritius",
   "metadata": {},
   "outputs": [],
   "source": [
    "#from atlassian import Confluence"
   ]
  },
  {
   "cell_type": "code",
   "execution_count": 5,
   "id": "reserved-position",
   "metadata": {},
   "outputs": [],
   "source": [
    "#Confluence.create_page?"
   ]
  },
  {
   "cell_type": "code",
   "execution_count": 6,
   "id": "given-acting",
   "metadata": {},
   "outputs": [],
   "source": [
    "#Confluence.create_page(space=\"/\", title=\"test\", body=df.to_markdown(), parent_id=None, type='page', representation='storage', editor='v2')"
   ]
  },
  {
   "cell_type": "code",
   "execution_count": null,
   "id": "trying-flash",
   "metadata": {},
   "outputs": [],
   "source": []
  },
  {
   "cell_type": "code",
   "execution_count": 7,
   "id": "purple-closing",
   "metadata": {},
   "outputs": [
    {
     "data": {
      "text/plain": [
       "(16, 14)"
      ]
     },
     "execution_count": 7,
     "metadata": {},
     "output_type": "execute_result"
    }
   ],
   "source": [
    "df.shape"
   ]
  },
  {
   "cell_type": "code",
   "execution_count": 67,
   "id": "straight-macedonia",
   "metadata": {},
   "outputs": [],
   "source": [
    "#df.to_markdown?"
   ]
  },
  {
   "cell_type": "code",
   "execution_count": 8,
   "id": "simple-component",
   "metadata": {},
   "outputs": [],
   "source": [
    "#print(df.to_markdown())"
   ]
  },
  {
   "cell_type": "code",
   "execution_count": 42,
   "id": "brilliant-mozambique",
   "metadata": {},
   "outputs": [
    {
     "name": "stdout",
     "output_type": "stream",
     "text": [
      "Collecting tabulate\n",
      "  Downloading tabulate-0.8.9-py3-none-any.whl (25 kB)\n",
      "Installing collected packages: tabulate\n",
      "Successfully installed tabulate-0.8.9\n",
      "Note: you may need to restart the kernel to use updated packages.\n"
     ]
    },
    {
     "name": "stderr",
     "output_type": "stream",
     "text": [
      "WARNING: You are using pip version 21.0.1; however, version 21.1.1 is available.\n",
      "You should consider upgrading via the 'c:\\users\\mostyk\\appdata\\local\\programs\\python\\python36\\python.exe -m pip install --upgrade pip' command.\n"
     ]
    }
   ],
   "source": []
  },
  {
   "cell_type": "code",
   "execution_count": 73,
   "id": "centered-tomato",
   "metadata": {},
   "outputs": [],
   "source": [
    "df.T.to_excel(\"results.xlsx\")"
   ]
  },
  {
   "cell_type": "code",
   "execution_count": 80,
   "id": "royal-slide",
   "metadata": {},
   "outputs": [],
   "source": [
    "df.round(3).to_csv(\"results.csv\")"
   ]
  },
  {
   "cell_type": "code",
   "execution_count": 10,
   "id": "banner-canyon",
   "metadata": {},
   "outputs": [
    {
     "data": {
      "text/plain": [
       "array(['NVIDIA GeForce RTX 3090', 'NVIDIA Tegra X2'], dtype=object)"
      ]
     },
     "execution_count": 10,
     "metadata": {},
     "output_type": "execute_result"
    }
   ],
   "source": [
    "df.DeviceName.unique()"
   ]
  },
  {
   "cell_type": "code",
   "execution_count": 28,
   "id": "hungry-spelling",
   "metadata": {},
   "outputs": [],
   "source": [
    "df[df.DeviceName=='NVIDIA Tegra X2'].round(3).to_csv(\"results_edge.csv\")"
   ]
  },
  {
   "cell_type": "code",
   "execution_count": null,
   "id": "higher-farming",
   "metadata": {},
   "outputs": [],
   "source": []
  }
 ],
 "metadata": {
  "kernelspec": {
   "display_name": "Python 3",
   "language": "python",
   "name": "python3"
  },
  "language_info": {
   "codemirror_mode": {
    "name": "ipython",
    "version": 3
   },
   "file_extension": ".py",
   "mimetype": "text/x-python",
   "name": "python",
   "nbconvert_exporter": "python",
   "pygments_lexer": "ipython3",
   "version": "3.6.6"
  }
 },
 "nbformat": 4,
 "nbformat_minor": 5
}
