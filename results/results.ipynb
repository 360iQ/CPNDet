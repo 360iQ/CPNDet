{
 "cells": [
  {
   "cell_type": "code",
   "execution_count": 1,
   "id": "incoming-shelf",
   "metadata": {},
   "outputs": [],
   "source": [
    "import os\n",
    "import pandas as pd"
   ]
  },
  {
   "cell_type": "code",
   "execution_count": 2,
   "id": "funny-space",
   "metadata": {},
   "outputs": [],
   "source": [
    "df = pd.DataFrame([])\n",
    "for path, directories, files in os.walk(os.getcwd()):\n",
    "     for file in files:\n",
    "        if file.endswith(\"csv\"):\n",
    "            tmp_df = pd.read_csv(os.path.join(path, file), index_col=[0])\n",
    "            df = pd.concat([df, tmp_df])\n",
    "df = df.drop_duplicates()"
   ]
  },
  {
   "cell_type": "code",
   "execution_count": 5,
   "id": "micro-personality",
   "metadata": {},
   "outputs": [
    {
     "data": {
      "text/plain": [
       "0    0.957943\n",
       "0    0.954629\n",
       "0    0.931139\n",
       "0    0.924306\n",
       "0    0.954603\n",
       "0    0.950448\n",
       "0    0.940146\n",
       "0    0.925500\n",
       "0    0.940527\n",
       "0    0.926209\n",
       "0    0.958239\n",
       "0    0.955743\n",
       "Name: AP @[IoU=0.5|area=all|maxDets=100], dtype: float64"
      ]
     },
     "execution_count": 5,
     "metadata": {},
     "output_type": "execute_result"
    }
   ],
   "source": [
    "df['AP @[IoU=0.5|area=all|maxDets=100]']"
   ]
  },
  {
   "cell_type": "code",
   "execution_count": 13,
   "id": "national-smile",
   "metadata": {},
   "outputs": [],
   "source": [
    "#df.sort_values('FPS')"
   ]
  },
  {
   "cell_type": "code",
   "execution_count": null,
   "id": "million-attention",
   "metadata": {},
   "outputs": [],
   "source": []
  },
  {
   "cell_type": "code",
   "execution_count": 12,
   "id": "normal-mississippi",
   "metadata": {},
   "outputs": [],
   "source": [
    "df.to_excel(\"results.xlsx\")"
   ]
  },
  {
   "cell_type": "code",
   "execution_count": null,
   "id": "understanding-helena",
   "metadata": {},
   "outputs": [],
   "source": [
    "df.to_csv(\"results.csv\")"
   ]
  },
  {
   "cell_type": "code",
   "execution_count": null,
   "id": "attractive-report",
   "metadata": {},
   "outputs": [],
   "source": []
  }
 ],
 "metadata": {
  "kernelspec": {
   "display_name": "Python 3",
   "language": "python",
   "name": "python3"
  },
  "language_info": {
   "codemirror_mode": {
    "name": "ipython",
    "version": 3
   },
   "file_extension": ".py",
   "mimetype": "text/x-python",
   "name": "python",
   "nbconvert_exporter": "python",
   "pygments_lexer": "ipython3",
   "version": "3.6.6"
  }
 },
 "nbformat": 4,
 "nbformat_minor": 5
}
